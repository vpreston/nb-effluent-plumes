{
 "cells": [
  {
   "cell_type": "markdown",
   "metadata": {},
   "source": [
    "# Cleaning Data from New Bedford and Fairhaven Deployments\n",
    "This repository takes in all of the datafiles from the New Bedford and Fairhaven deployments, aggregates, and cleans the data.\n",
    "\n",
    "Note that the aligning of the data is done by hand. The specific way timestamps are handled can been seen in the the `sensor_cleaning.py` file that is included in this repository.\n",
    "\n",
    "Further note, that there are two locations that have been targeted in this deployment: Fairhaven and New Bedford. New Bedford will reference the large effluent plume at the point. Fairhaven will reference the smaller effluent outflow site in the harbor."
   ]
  },
  {
   "cell_type": "code",
   "execution_count": 1,
   "metadata": {},
   "outputs": [],
   "source": [
    "# required imports\n",
    "import pandas as pd\n",
    "import numpy as np\n",
    "import matplotlib.pyplot as plt\n",
    "import seaborn as sns\n",
    "import sensor_cleaning as sc\n",
    "from IPython.display import display\n",
    "import gpxpy\n",
    "\n",
    "%matplotlib inline\n",
    "\n",
    "pd.set_option('display.max_columns',None)\n",
    "plt.rcParams['xtick.labelsize'] = 14\n",
    "plt.rcParams['ytick.labelsize'] = 14\n",
    "plt.rcParams['axes.labelsize'] = 28\n",
    "plt.rcParams['axes.titlesize'] = 32"
   ]
  },
  {
   "cell_type": "code",
   "execution_count": 2,
   "metadata": {},
   "outputs": [],
   "source": [
    "####### Please note! These files are not included in the repository.\n",
    "####### To get copies of these files, please contaxt vpreston@whoi.edu\n",
    "\n",
    "#raw data file extensions\n",
    "ctd = 'data/ctd/ctd_data.txt'\n",
    "\n",
    "gga = 'data/gga/gga_329_data.txt'\n",
    "\n",
    "opa = 'data/op/optode_20180329181123.txt'\n",
    "opb = 'data/op/optode_20180329192656.txt'\n",
    "opc = 'data/op/optode_20180329204400.txt'\n",
    "opd = 'data/op/optode_20180329211740.txt'\n",
    "ope = 'data/op/optode_20180329213909.txt'\n",
    "opf = 'data/op/optode_20180329223353.txt'\n",
    "opg = 'data/op/optode_20180329230511.txt'\n",
    "\n",
    "nit = 'data/nitrate/A0066336.csv'\n",
    "nita = 'data/nitrate/suna_20180329181159.txt'\n",
    "nitb = 'data/nitrate/suna_20180329181205.txt'\n",
    "nitc = 'data/nitrate/suna_20180329191218,txt'\n",
    "nitd = 'data/nitrate/suna_20180329204441.txt'\n",
    "\n",
    "aira = 'data/airmar/airmar_20180329181245.txt'\n",
    "airb = 'data/airmar/airmar_20180329191141.txt'\n",
    "airc = 'data/airmar/airmar_20180329204336.txt'\n",
    "aird = 'data/airmar/airmar_20180329213838.txt'\n",
    "aire = 'data/airmar/airmar_20180329221731.txt'\n",
    "airf = 'data/airmar/airmar_20180329230448.txt'\n",
    "\n",
    "# a different parser is used for the gpx data. Please change this filepath\n",
    "# to reflect where this is stored on the local machine\n",
    "pix = '/home/vpreston/Documents/IPP/nb-effluent-plumes/data/pix/43.log.gpx'"
   ]
  },
  {
   "cell_type": "markdown",
   "metadata": {},
   "source": [
    "## Cleaning the Data"
   ]
  },
  {
   "cell_type": "code",
   "execution_count": 8,
   "metadata": {},
   "outputs": [
    {
     "data": {
      "text/html": [
       "<div>\n",
       "<style scoped>\n",
       "    .dataframe tbody tr th:only-of-type {\n",
       "        vertical-align: middle;\n",
       "    }\n",
       "\n",
       "    .dataframe tbody tr th {\n",
       "        vertical-align: top;\n",
       "    }\n",
       "\n",
       "    .dataframe thead th {\n",
       "        text-align: right;\n",
       "    }\n",
       "</style>\n",
       "<table border=\"1\" class=\"dataframe\">\n",
       "  <thead>\n",
       "    <tr style=\"text-align: right;\">\n",
       "      <th></th>\n",
       "      <th>Time</th>\n",
       "      <th>Conductivity</th>\n",
       "      <th>Temperature</th>\n",
       "      <th>Pressure</th>\n",
       "      <th>Sea pressure</th>\n",
       "      <th>Depth</th>\n",
       "      <th>Salinity</th>\n",
       "      <th>Speed of sound</th>\n",
       "      <th>Specific conductivity</th>\n",
       "      <th>Density anomaly</th>\n",
       "      <th>Year</th>\n",
       "      <th>Month</th>\n",
       "      <th>Day</th>\n",
       "      <th>Hour</th>\n",
       "      <th>Minute</th>\n",
       "      <th>Second</th>\n",
       "      <th>Julian_Date</th>\n",
       "      <th>Seconds_Elapsed</th>\n",
       "    </tr>\n",
       "  </thead>\n",
       "  <tbody>\n",
       "    <tr>\n",
       "      <th>9504</th>\n",
       "      <td>2018-03-29 13:19:12.000</td>\n",
       "      <td>28.058638</td>\n",
       "      <td>5.507255</td>\n",
       "      <td>10.996522</td>\n",
       "      <td>0.864022</td>\n",
       "      <td>0.856976</td>\n",
       "      <td>28.378760</td>\n",
       "      <td>1464.405808</td>\n",
       "      <td>44701.527344</td>\n",
       "      <td>22.382645</td>\n",
       "      <td>2018</td>\n",
       "      <td>3</td>\n",
       "      <td>29</td>\n",
       "      <td>13.0</td>\n",
       "      <td>19.0</td>\n",
       "      <td>12.0</td>\n",
       "      <td>2.458207e+06</td>\n",
       "      <td>2553552.0</td>\n",
       "    </tr>\n",
       "    <tr>\n",
       "      <th>9505</th>\n",
       "      <td>2018-03-29 13:19:12.500</td>\n",
       "      <td>28.064775</td>\n",
       "      <td>5.501920</td>\n",
       "      <td>10.993600</td>\n",
       "      <td>0.861100</td>\n",
       "      <td>0.854077</td>\n",
       "      <td>28.390107</td>\n",
       "      <td>1464.398287</td>\n",
       "      <td>44718.563858</td>\n",
       "      <td>22.392158</td>\n",
       "      <td>2018</td>\n",
       "      <td>3</td>\n",
       "      <td>29</td>\n",
       "      <td>13.0</td>\n",
       "      <td>19.0</td>\n",
       "      <td>12.5</td>\n",
       "      <td>2.458207e+06</td>\n",
       "      <td>2553552.5</td>\n",
       "    </tr>\n",
       "  </tbody>\n",
       "</table>\n",
       "</div>"
      ],
      "text/plain": [
       "                         Time  Conductivity  Temperature   Pressure  \\\n",
       "9504  2018-03-29 13:19:12.000     28.058638     5.507255  10.996522   \n",
       "9505  2018-03-29 13:19:12.500     28.064775     5.501920  10.993600   \n",
       "\n",
       "      Sea pressure     Depth   Salinity  Speed of sound  \\\n",
       "9504      0.864022  0.856976  28.378760     1464.405808   \n",
       "9505      0.861100  0.854077  28.390107     1464.398287   \n",
       "\n",
       "      Specific conductivity  Density anomaly  Year  Month  Day  Hour  Minute  \\\n",
       "9504           44701.527344        22.382645  2018      3   29  13.0    19.0   \n",
       "9505           44718.563858        22.392158  2018      3   29  13.0    19.0   \n",
       "\n",
       "      Second   Julian_Date  Seconds_Elapsed  \n",
       "9504    12.0  2.458207e+06        2553552.0  \n",
       "9505    12.5  2.458207e+06        2553552.5  "
      ]
     },
     "execution_count": 8,
     "metadata": {},
     "output_type": "execute_result"
    },
    {
     "data": {
      "image/png": "[encoded data removed]",
      "text/plain": [
       "<matplotlib.figure.Figure at 0x7f0800f13d10>"
      ]
     },
     "metadata": {},
     "output_type": "display_data"
    }
   ],
   "source": [
    "# CTD\n",
    "ctd_df = pd.read_table(ctd, delimiter=',', header=0)\n",
    "ctd_df = sc.clean_ctd(ctd_df)\n",
    "\n",
    "# let's only grab relevant information\n",
    "ctd_df = ctd_df.drop(ctd_df[ctd_df.Julian_Date < (0.055+2458207)].index)\n",
    "ctd_df = ctd_df.drop(ctd_df[ctd_df.Julian_Date > (0.274+2458207)].index)\n",
    "ctd_df = ctd_df.dropna()\n",
    "\n",
    "# further, there are two sites of interest; let's grab those seperately as well\n",
    "ctd_fh = ctd_df.drop(ctd_df[ctd_df.Julian_Date > (0.205+2458207)].index)\n",
    "ctd_nb = ctd_df.drop(ctd_df[ctd_df.Julian_Date < (0.231+2458207)].index)\n",
    "\n",
    "plt.plot(ctd_df['Julian_Date'], ctd_df['Temperature'])\n",
    "ctd_df.head(2)"
   ]
  },
  {
   "cell_type": "code",
   "execution_count": 7,
   "metadata": {},
   "outputs": [
    {
     "data": {
      "text/html": [
       "<div>\n",
       "<style scoped>\n",
       "    .dataframe tbody tr th:only-of-type {\n",
       "        vertical-align: middle;\n",
       "    }\n",
       "\n",
       "    .dataframe tbody tr th {\n",
       "        vertical-align: top;\n",
       "    }\n",
       "\n",
       "    .dataframe thead th {\n",
       "        text-align: right;\n",
       "    }\n",
       "</style>\n",
       "<table border=\"1\" class=\"dataframe\">\n",
       "  <thead>\n",
       "    <tr style=\"text-align: right;\">\n",
       "      <th></th>\n",
       "      <th>Time</th>\n",
       "      <th>Year</th>\n",
       "      <th>Month</th>\n",
       "      <th>Day</th>\n",
       "      <th>Hour</th>\n",
       "      <th>Minute</th>\n",
       "      <th>Second</th>\n",
       "      <th>Seconds_Elapsed</th>\n",
       "      <th>Julian_Date</th>\n",
       "      <th>CH4_ppm</th>\n",
       "      <th>CO2_ppm</th>\n",
       "      <th>CH4_ppm_adjusted</th>\n",
       "      <th>CO2_ppm_adjusted</th>\n",
       "    </tr>\n",
       "  </thead>\n",
       "  <tbody>\n",
       "    <tr>\n",
       "      <th>4166</th>\n",
       "      <td>03/29/2018 14:19:12.941</td>\n",
       "      <td>2018</td>\n",
       "      <td>3</td>\n",
       "      <td>29</td>\n",
       "      <td>13.0</td>\n",
       "      <td>19.0</td>\n",
       "      <td>12.941</td>\n",
       "      <td>2553552.941</td>\n",
       "      <td>2.458207e+06</td>\n",
       "      <td>2.2926</td>\n",
       "      <td>410.650</td>\n",
       "      <td>1.147641</td>\n",
       "      <td>120.087103</td>\n",
       "    </tr>\n",
       "    <tr>\n",
       "      <th>4167</th>\n",
       "      <td>03/29/2018 14:19:13.917</td>\n",
       "      <td>2018</td>\n",
       "      <td>3</td>\n",
       "      <td>29</td>\n",
       "      <td>13.0</td>\n",
       "      <td>19.0</td>\n",
       "      <td>13.917</td>\n",
       "      <td>2553553.917</td>\n",
       "      <td>2.458207e+06</td>\n",
       "      <td>2.2953</td>\n",
       "      <td>410.278</td>\n",
       "      <td>1.151853</td>\n",
       "      <td>119.978318</td>\n",
       "    </tr>\n",
       "  </tbody>\n",
       "</table>\n",
       "</div>"
      ],
      "text/plain": [
       "                         Time  Year  Month  Day  Hour  Minute  Second  \\\n",
       "4166  03/29/2018 14:19:12.941  2018      3   29  13.0    19.0  12.941   \n",
       "4167  03/29/2018 14:19:13.917  2018      3   29  13.0    19.0  13.917   \n",
       "\n",
       "      Seconds_Elapsed   Julian_Date  CH4_ppm  CO2_ppm  CH4_ppm_adjusted  \\\n",
       "4166      2553552.941  2.458207e+06   2.2926  410.650          1.147641   \n",
       "4167      2553553.917  2.458207e+06   2.2953  410.278          1.151853   \n",
       "\n",
       "      CO2_ppm_adjusted  \n",
       "4166        120.087103  \n",
       "4167        119.978318  "
      ]
     },
     "execution_count": 7,
     "metadata": {},
     "output_type": "execute_result"
    },
    {
     "data": {
      "image/png": "[encoded data removed]",
      "text/plain": [
       "<matplotlib.figure.Figure at 0x7f08302754d0>"
      ]
     },
     "metadata": {},
     "output_type": "display_data"
    }
   ],
   "source": [
    "# GGA\n",
    "gga_df = pd.read_table(gga, delimiter=', ', header=1, engine='python')\n",
    "gga_df = sc.clean_gga(gga_df)\n",
    "\n",
    "# Only keep the columns with useful information\n",
    "gga_df = gga_df.loc[:,['Time',\n",
    "                 'Year',\n",
    "                 'Month',\n",
    "                 'Day',\n",
    "                 'Hour',\n",
    "                 'Minute',\n",
    "                 'Second',\n",
    "                 'Seconds_Elapsed',\n",
    "                 'Julian_Date',\n",
    "                 'CH4_ppm',\n",
    "                 'CO2_ppm',\n",
    "                 'CH4_ppm_adjusted',\n",
    "                 'CO2_ppm_adjusted']]\n",
    "\n",
    "# get rid of junk\n",
    "gga_df = gga_df.drop(gga_df[gga_df.Julian_Date < (0.055+2458207)].index)\n",
    "gga_df = gga_df.drop(gga_df[gga_df.Julian_Date > (0.274+2458207)].index)\n",
    "gga_df = gga_df.dropna()\n",
    "\n",
    "# further, there are two sites of interest; let's grab those seperately as well\n",
    "gga_fh = gga_df.drop(gga_df[gga_df.Julian_Date > (0.205+2458207)].index)\n",
    "gga_nb = gga_df.drop(gga_df[gga_df.Julian_Date < (0.231+2458207)].index)\n",
    "\n",
    "plt.plot(gga_df['Julian_Date'], gga_df['CO2_ppm_adjusted'])\n",
    "\n",
    "gga_df.head(2)"
   ]
  },
  {
   "cell_type": "code",
   "execution_count": 9,
   "metadata": {},
   "outputs": [
    {
     "data": {
      "text/html": [
       "<div>\n",
       "<style scoped>\n",
       "    .dataframe tbody tr th:only-of-type {\n",
       "        vertical-align: middle;\n",
       "    }\n",
       "\n",
       "    .dataframe tbody tr th {\n",
       "        vertical-align: top;\n",
       "    }\n",
       "\n",
       "    .dataframe thead th {\n",
       "        text-align: right;\n",
       "    }\n",
       "</style>\n",
       "<table border=\"1\" class=\"dataframe\">\n",
       "  <thead>\n",
       "    <tr style=\"text-align: right;\">\n",
       "      <th></th>\n",
       "      <th>posixtime</th>\n",
       "      <th>model</th>\n",
       "      <th>SN</th>\n",
       "      <th>O2Concentration</th>\n",
       "      <th>AirSaturation</th>\n",
       "      <th>Temperature</th>\n",
       "      <th>CalPhase</th>\n",
       "      <th>TCPhase</th>\n",
       "      <th>C1RPh</th>\n",
       "      <th>C2RPh</th>\n",
       "      <th>C1Amp</th>\n",
       "      <th>C2Amp</th>\n",
       "      <th>RawTemp</th>\n",
       "      <th>Julian_Date</th>\n",
       "    </tr>\n",
       "  </thead>\n",
       "  <tbody>\n",
       "    <tr>\n",
       "      <th>437</th>\n",
       "      <td>1.522333e+09</td>\n",
       "      <td>4831.0</td>\n",
       "      <td>277</td>\n",
       "      <td>425.7390</td>\n",
       "      <td>108.2564</td>\n",
       "      <td>5.551868</td>\n",
       "      <td>33.04836</td>\n",
       "      <td>3.304836E+01\u0011</td>\n",
       "      <td>4.139844E+0\u00131</td>\n",
       "      <td>8.350082E+00</td>\n",
       "      <td>888.7757</td>\n",
       "      <td>1055.159</td>\n",
       "      <td>668.6605</td>\n",
       "      <td>2.458207e+06</td>\n",
       "    </tr>\n",
       "    <tr>\n",
       "      <th>438</th>\n",
       "      <td>1.522333e+09</td>\n",
       "      <td>4831.0</td>\n",
       "      <td>277</td>\n",
       "      <td>426.0607</td>\n",
       "      <td>108.3061</td>\n",
       "      <td>5.540327</td>\n",
       "      <td>33.04543</td>\n",
       "      <td>3.304543E+01\u0011</td>\n",
       "      <td>4.139336E+0\u00131</td>\n",
       "      <td>8.347931E+00</td>\n",
       "      <td>888.3184</td>\n",
       "      <td>1054.925</td>\n",
       "      <td>669.0101</td>\n",
       "      <td>2.458207e+06</td>\n",
       "    </tr>\n",
       "  </tbody>\n",
       "</table>\n",
       "</div>"
      ],
      "text/plain": [
       "        posixtime   model   SN  O2Concentration  AirSaturation  Temperature  \\\n",
       "437  1.522333e+09  4831.0  277         425.7390       108.2564     5.551868   \n",
       "438  1.522333e+09  4831.0  277         426.0607       108.3061     5.540327   \n",
       "\n",
       "     CalPhase        TCPhase          C1RPh         C2RPh     C1Amp     C2Amp  \\\n",
       "437  33.04836  3.304836E+01\u0011  4.139844E+0\u00131  8.350082E+00  888.7757  1055.159   \n",
       "438  33.04543  3.304543E+01\u0011  4.139336E+0\u00131  8.347931E+00  888.3184  1054.925   \n",
       "\n",
       "      RawTemp   Julian_Date  \n",
       "437  668.6605  2.458207e+06  \n",
       "438  669.0101  2.458207e+06  "
      ]
     },
     "execution_count": 9,
     "metadata": {},
     "output_type": "execute_result"
    },
    {
     "data": {
      "image/png": "[encoded data removed]",
      "text/plain": [
       "<matplotlib.figure.Figure at 0x7f080081dc90>"
      ]
     },
     "metadata": {},
     "output_type": "display_data"
    }
   ],
   "source": [
    "# optode\n",
    "op_df = pd.read_table(opa, delimiter=',', header=0, engine='c')\n",
    "tempb = pd.read_table(opb, delimiter=',', header=0, engine='c')\n",
    "tempc = pd.read_table(opc, delimiter=',', header=0, engine='c')\n",
    "tempd = pd.read_table(opd, delimiter=',', header=0, engine='c')\n",
    "tempe = pd.read_table(ope, delimiter=',', header=0, engine='c')\n",
    "tempf = pd.read_table(opf, delimiter=',', header=0, engine='c')\n",
    "tempg = pd.read_table(opg, delimiter=',', header=0, engine='c')\n",
    "\n",
    "op_df = op_df.append(tempb, ignore_index=True)\n",
    "op_df = op_df.append(tempc, ignore_index=True)\n",
    "op_df = op_df.append(tempd, ignore_index=True)\n",
    "op_df = op_df.append(tempe, ignore_index=True)\n",
    "op_df = op_df.append(tempf, ignore_index=True)\n",
    "op_df = op_df.append(tempg, ignore_index=True)\n",
    "\n",
    "op_df = sc.clean_optode(op_df)\n",
    "op_df = op_df.dropna()\n",
    "\n",
    "# limit the times\n",
    "op_df = op_df.drop(op_df[op_df.Julian_Date < (0.055+2458207)].index)\n",
    "op_df = op_df.drop(op_df[op_df.Julian_Date > (0.274+2458207)].index)\n",
    "\n",
    "# get the two sites\n",
    "op_fh = op_df.drop(op_df[op_df.Julian_Date > (0.205+2458207)].index)\n",
    "op_nb = op_df.drop(op_df[op_df.Julian_Date < (0.231+2458207)].index)\n",
    "\n",
    "plt.plot(op_df['Julian_Date'], op_df['O2Concentration'])\n",
    "op_df.head(2)"
   ]
  },
  {
   "cell_type": "code",
   "execution_count": 10,
   "metadata": {},
   "outputs": [
    {
     "name": "stderr",
     "output_type": "stream",
     "text": [
      "/home/vpreston/anaconda2/lib/python2.7/site-packages/pandas/core/indexing.py:357: SettingWithCopyWarning: \n",
      "A value is trying to be set on a copy of a slice from a DataFrame.\n",
      "Try using .loc[row_indexer,col_indexer] = value instead\n",
      "\n",
      "See the caveats in the documentation: http://pandas.pydata.org/pandas-docs/stable/indexing.html#indexing-view-versus-copy\n",
      "  self.obj[key] = _infer_fill_value(value)\n",
      "/home/vpreston/anaconda2/lib/python2.7/site-packages/pandas/core/indexing.py:537: SettingWithCopyWarning: \n",
      "A value is trying to be set on a copy of a slice from a DataFrame.\n",
      "Try using .loc[row_indexer,col_indexer] = value instead\n",
      "\n",
      "See the caveats in the documentation: http://pandas.pydata.org/pandas-docs/stable/indexing.html#indexing-view-versus-copy\n",
      "  self.obj[item] = s\n"
     ]
    },
    {
     "data": {
      "text/html": [
       "<div>\n",
       "<style scoped>\n",
       "    .dataframe tbody tr th:only-of-type {\n",
       "        vertical-align: middle;\n",
       "    }\n",
       "\n",
       "    .dataframe tbody tr th {\n",
       "        vertical-align: top;\n",
       "    }\n",
       "\n",
       "    .dataframe thead th {\n",
       "        text-align: right;\n",
       "    }\n",
       "</style>\n",
       "<table border=\"1\" class=\"dataframe\">\n",
       "  <thead>\n",
       "    <tr style=\"text-align: right;\">\n",
       "      <th></th>\n",
       "      <th>lat</th>\n",
       "      <th>lon</th>\n",
       "      <th>lat_mod</th>\n",
       "      <th>lon_mod</th>\n",
       "      <th>Julian_Date</th>\n",
       "      <th>Year</th>\n",
       "      <th>Month</th>\n",
       "      <th>Day</th>\n",
       "      <th>Hour</th>\n",
       "      <th>Minute</th>\n",
       "      <th>Second</th>\n",
       "      <th>Seconds_Elapsed</th>\n",
       "      <th>COG_T</th>\n",
       "      <th>SOG_K</th>\n",
       "      <th>pressure_B</th>\n",
       "      <th>wind_dir_T</th>\n",
       "      <th>wind_speed_M</th>\n",
       "      <th>rateofturn</th>\n",
       "    </tr>\n",
       "  </thead>\n",
       "  <tbody>\n",
       "    <tr>\n",
       "      <th>387</th>\n",
       "      <td>4138.3258</td>\n",
       "      <td>7054.4446</td>\n",
       "      <td>41.638763</td>\n",
       "      <td>-70.907410</td>\n",
       "      <td>2.458207e+06</td>\n",
       "      <td>2018</td>\n",
       "      <td>3</td>\n",
       "      <td>29</td>\n",
       "      <td>13.0</td>\n",
       "      <td>19.0</td>\n",
       "      <td>12.9</td>\n",
       "      <td>2553552.9</td>\n",
       "      <td>264.5</td>\n",
       "      <td>1.1</td>\n",
       "      <td>1.0182</td>\n",
       "      <td>173.0</td>\n",
       "      <td>2.1</td>\n",
       "      <td>0</td>\n",
       "    </tr>\n",
       "    <tr>\n",
       "      <th>388</th>\n",
       "      <td>4138.3258</td>\n",
       "      <td>7054.4447</td>\n",
       "      <td>41.638763</td>\n",
       "      <td>-70.907412</td>\n",
       "      <td>2.458207e+06</td>\n",
       "      <td>2018</td>\n",
       "      <td>3</td>\n",
       "      <td>29</td>\n",
       "      <td>13.0</td>\n",
       "      <td>19.0</td>\n",
       "      <td>13.9</td>\n",
       "      <td>2553553.9</td>\n",
       "      <td>260.5</td>\n",
       "      <td>1.1</td>\n",
       "      <td>1.0184</td>\n",
       "      <td>175.4</td>\n",
       "      <td>1.9</td>\n",
       "      <td>0</td>\n",
       "    </tr>\n",
       "    <tr>\n",
       "      <th>389</th>\n",
       "      <td>4138.3258</td>\n",
       "      <td>7054.4448</td>\n",
       "      <td>41.638763</td>\n",
       "      <td>-70.907413</td>\n",
       "      <td>2.458207e+06</td>\n",
       "      <td>2018</td>\n",
       "      <td>3</td>\n",
       "      <td>29</td>\n",
       "      <td>13.0</td>\n",
       "      <td>19.0</td>\n",
       "      <td>14.9</td>\n",
       "      <td>2553554.9</td>\n",
       "      <td>260.2</td>\n",
       "      <td>0.9</td>\n",
       "      <td>1.0184</td>\n",
       "      <td>173.6</td>\n",
       "      <td>1.6</td>\n",
       "      <td>0</td>\n",
       "    </tr>\n",
       "    <tr>\n",
       "      <th>390</th>\n",
       "      <td>4138.3259</td>\n",
       "      <td>7054.4449</td>\n",
       "      <td>41.638765</td>\n",
       "      <td>-70.907415</td>\n",
       "      <td>2.458207e+06</td>\n",
       "      <td>2018</td>\n",
       "      <td>3</td>\n",
       "      <td>29</td>\n",
       "      <td>13.0</td>\n",
       "      <td>19.0</td>\n",
       "      <td>15.9</td>\n",
       "      <td>2553555.9</td>\n",
       "      <td>256.9</td>\n",
       "      <td>0.9</td>\n",
       "      <td>1.0185</td>\n",
       "      <td>172.4</td>\n",
       "      <td>1.9</td>\n",
       "      <td>0</td>\n",
       "    </tr>\n",
       "    <tr>\n",
       "      <th>391</th>\n",
       "      <td>4138.3259</td>\n",
       "      <td>7054.4450</td>\n",
       "      <td>41.638765</td>\n",
       "      <td>-70.907417</td>\n",
       "      <td>2.458207e+06</td>\n",
       "      <td>2018</td>\n",
       "      <td>3</td>\n",
       "      <td>29</td>\n",
       "      <td>13.0</td>\n",
       "      <td>19.0</td>\n",
       "      <td>16.9</td>\n",
       "      <td>2553556.9</td>\n",
       "      <td>255.9</td>\n",
       "      <td>0.7</td>\n",
       "      <td>1.0184</td>\n",
       "      <td>168.8</td>\n",
       "      <td>1.7</td>\n",
       "      <td>0</td>\n",
       "    </tr>\n",
       "  </tbody>\n",
       "</table>\n",
       "</div>"
      ],
      "text/plain": [
       "           lat        lon    lat_mod    lon_mod   Julian_Date  Year  Month  \\\n",
       "387  4138.3258  7054.4446  41.638763 -70.907410  2.458207e+06  2018      3   \n",
       "388  4138.3258  7054.4447  41.638763 -70.907412  2.458207e+06  2018      3   \n",
       "389  4138.3258  7054.4448  41.638763 -70.907413  2.458207e+06  2018      3   \n",
       "390  4138.3259  7054.4449  41.638765 -70.907415  2.458207e+06  2018      3   \n",
       "391  4138.3259  7054.4450  41.638765 -70.907417  2.458207e+06  2018      3   \n",
       "\n",
       "     Day  Hour  Minute  Second  Seconds_Elapsed  COG_T  SOG_K  pressure_B  \\\n",
       "387   29  13.0    19.0    12.9        2553552.9  264.5    1.1      1.0182   \n",
       "388   29  13.0    19.0    13.9        2553553.9  260.5    1.1      1.0184   \n",
       "389   29  13.0    19.0    14.9        2553554.9  260.2    0.9      1.0184   \n",
       "390   29  13.0    19.0    15.9        2553555.9  256.9    0.9      1.0185   \n",
       "391   29  13.0    19.0    16.9        2553556.9  255.9    0.7      1.0184   \n",
       "\n",
       "     wind_dir_T  wind_speed_M  rateofturn  \n",
       "387       173.0           2.1           0  \n",
       "388       175.4           1.9           0  \n",
       "389       173.6           1.6           0  \n",
       "390       172.4           1.9           0  \n",
       "391       168.8           1.7           0  "
      ]
     },
     "execution_count": 10,
     "metadata": {},
     "output_type": "execute_result"
    },
    {
     "data": {
      "image/png": "[encoded data removed]",
      "text/plain": [
       "<matplotlib.figure.Figure at 0x7f07f8488310>"
      ]
     },
     "metadata": {},
     "output_type": "display_data"
    }
   ],
   "source": [
    "#airmar\n",
    "air_df = pd.read_table(aira, delimiter=',', header=0, engine='python')\n",
    "tempb = pd.read_table(airb, delimiter=',', header=0, engine='python')\n",
    "tempc = pd.read_table(airc, delimiter=',', header=0, engine='python')\n",
    "tempd = pd.read_table(aird, delimiter=',', header=0, engine='python')\n",
    "tempe = pd.read_table(aire, delimiter=',', header=0, engine='python')\n",
    "tempf = pd.read_table(airf, delimiter=',', header=0, engine='python')\n",
    "\n",
    "air_df = air_df.append(tempb, ignore_index=True)\n",
    "air_df = air_df.append(tempc, ignore_index=True)\n",
    "air_df = air_df.append(tempd, ignore_index=True)\n",
    "air_df = air_df.append(tempe, ignore_index=True)\n",
    "air_df = air_df.append(tempf, ignore_index=True)\n",
    "\n",
    "# air_df.head(2)\n",
    "\n",
    "air_df = sc.clean_airmar(air_df)\n",
    "air_df = air_df.loc[:,['lat',\n",
    "                       'lon',\n",
    "                       'lat_mod',\n",
    "                       'lon_mod',\n",
    "                       'Julian_Date',\n",
    "                       'Year',\n",
    "                       'Month',\n",
    "                       'Day',\n",
    "                       'Hour',\n",
    "                       'Minute',\n",
    "                       'Second',\n",
    "                       'Seconds_Elapsed',\n",
    "                       'COG_T',\n",
    "                       'SOG_K',\n",
    "                       'pressure_B',\n",
    "                       'wind_dir_T',\n",
    "                       'wind_speed_M',\n",
    "                       'rateofturn']]\n",
    "air_df = air_df.dropna()\n",
    "\n",
    "# limit the times\n",
    "air_df = air_df.drop(air_df[air_df.Julian_Date < (0.055+2458207)].index)\n",
    "air_df = air_df.drop(air_df[air_df.Julian_Date > (0.274+2458207)].index)\n",
    "\n",
    "# get the two sites\n",
    "air_fh = air_df.drop(air_df[air_df.Julian_Date > (0.205+2458207)].index)\n",
    "air_nb = air_df.drop(air_df[air_df.Julian_Date < (0.231+2458207)].index)\n",
    "\n",
    "plt.plot(air_df['Julian_Date'], air_df['lon_mod'])\n",
    "air_df.head(5)"
   ]
  },
  {
   "cell_type": "code",
   "execution_count": 12,
   "metadata": {},
   "outputs": [
    {
     "data": {
      "text/html": [
       "<div>\n",
       "<style scoped>\n",
       "    .dataframe tbody tr th:only-of-type {\n",
       "        vertical-align: middle;\n",
       "    }\n",
       "\n",
       "    .dataframe tbody tr th {\n",
       "        vertical-align: top;\n",
       "    }\n",
       "\n",
       "    .dataframe thead th {\n",
       "        text-align: right;\n",
       "    }\n",
       "</style>\n",
       "<table border=\"1\" class=\"dataframe\">\n",
       "  <thead>\n",
       "    <tr style=\"text-align: right;\">\n",
       "      <th></th>\n",
       "      <th>Julian_Date</th>\n",
       "      <th>0.00</th>\n",
       "      <th>Year</th>\n",
       "      <th>Month</th>\n",
       "      <th>Day</th>\n",
       "      <th>Hour</th>\n",
       "      <th>Minute</th>\n",
       "      <th>Second</th>\n",
       "      <th>Seconds_Elapsed</th>\n",
       "    </tr>\n",
       "  </thead>\n",
       "  <tbody>\n",
       "    <tr>\n",
       "      <th>535</th>\n",
       "      <td>2.458207e+06</td>\n",
       "      <td>19.25</td>\n",
       "      <td>2018</td>\n",
       "      <td>3</td>\n",
       "      <td>29</td>\n",
       "      <td>13</td>\n",
       "      <td>19</td>\n",
       "      <td>13.4472</td>\n",
       "      <td>2.553553e+06</td>\n",
       "    </tr>\n",
       "    <tr>\n",
       "      <th>536</th>\n",
       "      <td>2.458207e+06</td>\n",
       "      <td>19.78</td>\n",
       "      <td>2018</td>\n",
       "      <td>3</td>\n",
       "      <td>29</td>\n",
       "      <td>13</td>\n",
       "      <td>19</td>\n",
       "      <td>15.7440</td>\n",
       "      <td>2.553556e+06</td>\n",
       "    </tr>\n",
       "  </tbody>\n",
       "</table>\n",
       "</div>"
      ],
      "text/plain": [
       "      Julian_Date   0.00  Year  Month  Day  Hour  Minute   Second  \\\n",
       "535  2.458207e+06  19.25  2018      3   29    13      19  13.4472   \n",
       "536  2.458207e+06  19.78  2018      3   29    13      19  15.7440   \n",
       "\n",
       "     Seconds_Elapsed  \n",
       "535     2.553553e+06  \n",
       "536     2.553556e+06  "
      ]
     },
     "execution_count": 12,
     "metadata": {},
     "output_type": "execute_result"
    },
    {
     "data": {
      "image/png": "[encoded data removed]",
      "text/plain": [
       "<matplotlib.figure.Figure at 0x7f0801e41250>"
      ]
     },
     "metadata": {},
     "output_type": "display_data"
    }
   ],
   "source": [
    "#nitrate\n",
    "reload(sc)\n",
    "nit_df = pd.read_table(nit, delimiter=',', header=14, engine='python')\n",
    "nit_df = sc.clean_nitrate(nit_df)\n",
    "\n",
    "#keep only certain columns\n",
    "nit_df = nit_df.loc[:,['Julian_Date',\n",
    "                         '0.00',\n",
    "                         'Year',\n",
    "                         'Month',\n",
    "                         'Day',\n",
    "                         'Hour',\n",
    "                         'Minute',\n",
    "                         'Second',\n",
    "                         'Seconds_Elapsed']]\n",
    "\n",
    "# limit the times\n",
    "nit_df = nit_df.drop(nit_df[nit_df.Julian_Date < (0.055+2458207)].index)\n",
    "nit_df = nit_df.drop(nit_df[nit_df.Julian_Date > (0.274+2458207)].index)\n",
    "nit_df = nit_df.dropna()\n",
    "\n",
    "# get the two sites\n",
    "nit_fh = nit_df.drop(nit_df[nit_df.Julian_Date > (0.205+2458207)].index)\n",
    "nit_nb = nit_df.drop(nit_df[nit_df.Julian_Date < (0.231+2458207)].index)\n",
    "\n",
    "plt.plot(nit_df['Julian_Date'], nit_df['0.00'])\n",
    "\n",
    "nit_df.head(2)"
   ]
  },
  {
   "cell_type": "code",
   "execution_count": 13,
   "metadata": {},
   "outputs": [
    {
     "data": {
      "text/html": [
       "<div>\n",
       "<style scoped>\n",
       "    .dataframe tbody tr th:only-of-type {\n",
       "        vertical-align: middle;\n",
       "    }\n",
       "\n",
       "    .dataframe tbody tr th {\n",
       "        vertical-align: top;\n",
       "    }\n",
       "\n",
       "    .dataframe thead th {\n",
       "        text-align: right;\n",
       "    }\n",
       "</style>\n",
       "<table border=\"1\" class=\"dataframe\">\n",
       "  <thead>\n",
       "    <tr style=\"text-align: right;\">\n",
       "      <th></th>\n",
       "      <th>Longitude</th>\n",
       "      <th>Latitude</th>\n",
       "      <th>Altitude</th>\n",
       "      <th>Time</th>\n",
       "      <th>Speed</th>\n",
       "    </tr>\n",
       "  </thead>\n",
       "  <tbody>\n",
       "    <tr>\n",
       "      <th>0</th>\n",
       "      <td>-70.907060</td>\n",
       "      <td>41.638874</td>\n",
       "      <td>7.46</td>\n",
       "      <td>2018-03-29 08:59:31</td>\n",
       "      <td>NaN</td>\n",
       "    </tr>\n",
       "    <tr>\n",
       "      <th>1</th>\n",
       "      <td>-70.907059</td>\n",
       "      <td>41.638875</td>\n",
       "      <td>7.52</td>\n",
       "      <td>2018-03-29 08:59:31</td>\n",
       "      <td>0.079292</td>\n",
       "    </tr>\n",
       "    <tr>\n",
       "      <th>2</th>\n",
       "      <td>-70.907059</td>\n",
       "      <td>41.638875</td>\n",
       "      <td>7.59</td>\n",
       "      <td>2018-03-29 08:59:32</td>\n",
       "      <td>0.079292</td>\n",
       "    </tr>\n",
       "    <tr>\n",
       "      <th>3</th>\n",
       "      <td>-70.907059</td>\n",
       "      <td>41.638876</td>\n",
       "      <td>7.65</td>\n",
       "      <td>2018-03-29 08:59:32</td>\n",
       "      <td>NaN</td>\n",
       "    </tr>\n",
       "    <tr>\n",
       "      <th>4</th>\n",
       "      <td>-70.907058</td>\n",
       "      <td>41.638876</td>\n",
       "      <td>7.65</td>\n",
       "      <td>2018-03-29 08:59:32</td>\n",
       "      <td>NaN</td>\n",
       "    </tr>\n",
       "  </tbody>\n",
       "</table>\n",
       "</div>"
      ],
      "text/plain": [
       "   Longitude   Latitude  Altitude                Time     Speed\n",
       "0 -70.907060  41.638874      7.46 2018-03-29 08:59:31       NaN\n",
       "1 -70.907059  41.638875      7.52 2018-03-29 08:59:31  0.079292\n",
       "2 -70.907059  41.638875      7.59 2018-03-29 08:59:32  0.079292\n",
       "3 -70.907059  41.638876      7.65 2018-03-29 08:59:32       NaN\n",
       "4 -70.907058  41.638876      7.65 2018-03-29 08:59:32       NaN"
      ]
     },
     "execution_count": 13,
     "metadata": {},
     "output_type": "execute_result"
    }
   ],
   "source": [
    "#pixhawk gpx info\n",
    "\n",
    "# use the gpx parser\n",
    "pix_df = gpxpy.parse(open(pix))\n",
    "\n",
    "# get elements of the file\n",
    "track = pix_df.tracks[0]\n",
    "segment = track.segments[0]\n",
    "\n",
    "# extract the points and other information\n",
    "data = []\n",
    "segment_length = segment.length_3d()\n",
    "for i, point in enumerate(segment.points):\n",
    "    data.append([point.longitude, point.latitude, point.elevation, point.time, segment.get_speed(i)])\n",
    "\n",
    "# put into a pandas dataframe\n",
    "columns = ['Longitude', 'Latitude', 'Altitude', 'Time', 'Speed']\n",
    "p_df = pd.DataFrame(data, columns=columns)\n",
    "p_df.head(5)"
   ]
  },
  {
   "cell_type": "code",
   "execution_count": 14,
   "metadata": {},
   "outputs": [
    {
     "data": {
      "image/png": "[encoded data removed]",
      "text/plain": [
       "<matplotlib.figure.Figure at 0x7f07f7c68e10>"
      ]
     },
     "metadata": {},
     "output_type": "display_data"
    }
   ],
   "source": [
    "# Let's confirm that the airmar and the pixhawk line up\n",
    "plt.plot(p_df['Longitude'], p_df['Latitude'], label='pixhawk')\n",
    "plt.plot(air_df['lon_mod'], air_df['lat_mod'], label='airmar')\n",
    "plt.legend()\n",
    "plt.show()"
   ]
  },
  {
   "cell_type": "code",
   "execution_count": 15,
   "metadata": {},
   "outputs": [
    {
     "data": {
      "text/html": [
       "<div>\n",
       "<style scoped>\n",
       "    .dataframe tbody tr th:only-of-type {\n",
       "        vertical-align: middle;\n",
       "    }\n",
       "\n",
       "    .dataframe tbody tr th {\n",
       "        vertical-align: top;\n",
       "    }\n",
       "\n",
       "    .dataframe thead th {\n",
       "        text-align: right;\n",
       "    }\n",
       "</style>\n",
       "<table border=\"1\" class=\"dataframe\">\n",
       "  <thead>\n",
       "    <tr style=\"text-align: right;\">\n",
       "      <th></th>\n",
       "      <th>Longitude</th>\n",
       "      <th>Latitude</th>\n",
       "      <th>Altitude</th>\n",
       "      <th>Time</th>\n",
       "      <th>Speed</th>\n",
       "      <th>Year</th>\n",
       "      <th>Month</th>\n",
       "      <th>Day</th>\n",
       "      <th>Hour</th>\n",
       "      <th>Minute</th>\n",
       "      <th>Second</th>\n",
       "    </tr>\n",
       "  </thead>\n",
       "  <tbody>\n",
       "    <tr>\n",
       "      <th>0</th>\n",
       "      <td>-70.907060</td>\n",
       "      <td>41.638874</td>\n",
       "      <td>7.46</td>\n",
       "      <td>2018-03-29 08:59:31</td>\n",
       "      <td>NaN</td>\n",
       "      <td>2018</td>\n",
       "      <td>3</td>\n",
       "      <td>29</td>\n",
       "      <td>12.0</td>\n",
       "      <td>59.0</td>\n",
       "      <td>31.0</td>\n",
       "    </tr>\n",
       "    <tr>\n",
       "      <th>1</th>\n",
       "      <td>-70.907059</td>\n",
       "      <td>41.638875</td>\n",
       "      <td>7.52</td>\n",
       "      <td>2018-03-29 08:59:31</td>\n",
       "      <td>0.079292</td>\n",
       "      <td>2018</td>\n",
       "      <td>3</td>\n",
       "      <td>29</td>\n",
       "      <td>12.0</td>\n",
       "      <td>59.0</td>\n",
       "      <td>31.0</td>\n",
       "    </tr>\n",
       "  </tbody>\n",
       "</table>\n",
       "</div>"
      ],
      "text/plain": [
       "   Longitude   Latitude  Altitude                Time     Speed  Year  Month  \\\n",
       "0 -70.907060  41.638874      7.46 2018-03-29 08:59:31       NaN  2018      3   \n",
       "1 -70.907059  41.638875      7.52 2018-03-29 08:59:31  0.079292  2018      3   \n",
       "\n",
       "   Day  Hour  Minute  Second  \n",
       "0   29  12.0    59.0    31.0  \n",
       "1   29  12.0    59.0    31.0  "
      ]
     },
     "execution_count": 15,
     "metadata": {},
     "output_type": "execute_result"
    }
   ],
   "source": [
    "# Let's add the timestamp info for the pixhawk\n",
    "p_df.loc[:,'Year'] = p_df.apply(lambda x : int(x['Time'].year),axis=1)\n",
    "p_df.loc[:,'Month'] = p_df.apply(lambda x : int(x['Time'].month),axis=1)\n",
    "p_df.loc[:,'Day'] = p_df.apply(lambda x : int(x['Time'].day),axis=1)\n",
    "p_df.loc[:,'Hour'] = p_df.apply(lambda x : float(x['Time'].hour+4.),axis=1)\n",
    "p_df.loc[:,'Minute'] = p_df.apply(lambda x : float(x['Time'].minute),axis=1)\n",
    "p_df.loc[:,'Second'] = p_df.apply(lambda x : float(x['Time'].second),axis=1)\n",
    "\n",
    "p_df.head(2)"
   ]
  },
  {
   "cell_type": "code",
   "execution_count": 16,
   "metadata": {},
   "outputs": [
    {
     "data": {
      "text/html": [
       "<div>\n",
       "<style scoped>\n",
       "    .dataframe tbody tr th:only-of-type {\n",
       "        vertical-align: middle;\n",
       "    }\n",
       "\n",
       "    .dataframe tbody tr th {\n",
       "        vertical-align: top;\n",
       "    }\n",
       "\n",
       "    .dataframe thead th {\n",
       "        text-align: right;\n",
       "    }\n",
       "</style>\n",
       "<table border=\"1\" class=\"dataframe\">\n",
       "  <thead>\n",
       "    <tr style=\"text-align: right;\">\n",
       "      <th></th>\n",
       "      <th>Longitude</th>\n",
       "      <th>Latitude</th>\n",
       "      <th>Altitude</th>\n",
       "      <th>Time</th>\n",
       "      <th>Speed</th>\n",
       "      <th>Year</th>\n",
       "      <th>Month</th>\n",
       "      <th>Day</th>\n",
       "      <th>Hour</th>\n",
       "      <th>Minute</th>\n",
       "      <th>Second</th>\n",
       "      <th>Julian_Date</th>\n",
       "    </tr>\n",
       "  </thead>\n",
       "  <tbody>\n",
       "    <tr>\n",
       "      <th>2901</th>\n",
       "      <td>-70.907424</td>\n",
       "      <td>41.63876</td>\n",
       "      <td>5.06</td>\n",
       "      <td>2018-03-29 09:19:12</td>\n",
       "      <td>0.085968</td>\n",
       "      <td>2018</td>\n",
       "      <td>3</td>\n",
       "      <td>29</td>\n",
       "      <td>13.0</td>\n",
       "      <td>19.0</td>\n",
       "      <td>12.0</td>\n",
       "      <td>2458207.055</td>\n",
       "    </tr>\n",
       "    <tr>\n",
       "      <th>2902</th>\n",
       "      <td>-70.907425</td>\n",
       "      <td>41.63876</td>\n",
       "      <td>5.06</td>\n",
       "      <td>2018-03-29 09:19:12</td>\n",
       "      <td>NaN</td>\n",
       "      <td>2018</td>\n",
       "      <td>3</td>\n",
       "      <td>29</td>\n",
       "      <td>13.0</td>\n",
       "      <td>19.0</td>\n",
       "      <td>12.0</td>\n",
       "      <td>2458207.055</td>\n",
       "    </tr>\n",
       "  </tbody>\n",
       "</table>\n",
       "</div>"
      ],
      "text/plain": [
       "      Longitude  Latitude  Altitude                Time     Speed  Year  \\\n",
       "2901 -70.907424  41.63876      5.06 2018-03-29 09:19:12  0.085968  2018   \n",
       "2902 -70.907425  41.63876      5.06 2018-03-29 09:19:12       NaN  2018   \n",
       "\n",
       "      Month  Day  Hour  Minute  Second  Julian_Date  \n",
       "2901      3   29  13.0    19.0    12.0  2458207.055  \n",
       "2902      3   29  13.0    19.0    12.0  2458207.055  "
      ]
     },
     "execution_count": 16,
     "metadata": {},
     "output_type": "execute_result"
    }
   ],
   "source": [
    "# Now let's add the Julian_Date element and trim the set to match the rest\n",
    "p_df = sc.global_time_column(p_df)\n",
    "\n",
    "# limit the times\n",
    "p_df = p_df.drop(p_df[p_df.Julian_Date < (0.055+2458207)].index)\n",
    "p_df = p_df.drop(p_df[p_df.Julian_Date > (0.274+2458207)].index)\n",
    "\n",
    "# get the two sites\n",
    "p_fh = p_df.drop(p_df[p_df.Julian_Date > (0.205+2458207)].index)\n",
    "p_nb = p_df.drop(p_df[p_df.Julian_Date < (0.231+2458207)].index)\n",
    "\n",
    "p_df.head(2)"
   ]
  },
  {
   "cell_type": "code",
   "execution_count": 17,
   "metadata": {},
   "outputs": [
    {
     "data": {
      "image/png": "[encoded data removed]",
      "text/plain": [
       "<matplotlib.figure.Figure at 0x7f07f6e50710>"
      ]
     },
     "metadata": {},
     "output_type": "display_data"
    }
   ],
   "source": [
    "# And let's confirm again\n",
    "plt.plot(p_df['Julian_Date'], p_df['Longitude'], label='pixhawk')\n",
    "plt.plot(air_df['Julian_Date'], air_df['lon_mod'], label='airmar')\n",
    "plt.legend()\n",
    "plt.show()"
   ]
  },
  {
   "cell_type": "code",
   "execution_count": 18,
   "metadata": {},
   "outputs": [],
   "source": [
    "#******************\n",
    "# Only run this cell is new CSVs need to be generated!\n",
    "# Generates instrument only files\n",
    "#******************\n",
    "\n",
    "ctd_df.to_csv('data/clean/ctd.csv')\n",
    "ctd_fh.to_csv('data/clean/ctd_fh.csv')\n",
    "ctd_nb.to_csv('data/clean/ctd_nb.csv')\n",
    "\n",
    "nit_df.to_csv('data/clean/nit.csv')\n",
    "nit_fh.to_csv('data/clean/nit_fh.csv')\n",
    "nit_nb.to_csv('data/clean/nit_nb.csv')\n",
    "\n",
    "op_df.to_csv('data/clean/op.csv')\n",
    "op_fh.to_csv('data/clean/op_fh.csv')\n",
    "op_nb.to_csv('data/clean/op_nb.csv')\n",
    "\n",
    "gga_df.to_csv('data/clean/gga.csv')\n",
    "gga_fh.to_csv('data/clean/gga_fh.csv')\n",
    "gga_nb.to_csv('data/clean/gga_nb.csv')\n",
    "\n",
    "air_df.to_csv('data/clean/air.csv')\n",
    "air_fh.to_csv('data/clean/air_fh.csv')\n",
    "air_nb.to_csv('data/clean/air_nb.csv')\n",
    "\n",
    "p_df.to_csv('data/clean/p.csv')\n",
    "p_fh.to_csv('data/clean/p_fh.csv')\n",
    "p_nb.to_csv('data/clean/p_nb.csv')"
   ]
  },
  {
   "cell_type": "markdown",
   "metadata": {},
   "source": [
    "## Geolocating Raw Data\n",
    "Each instrument will now be combined with the pixhawk geolocation frame. Interpolation will happen with respect to the sensor timestamp (so the location will be interpolated, rather than the sensor information)."
   ]
  },
  {
   "cell_type": "code",
   "execution_count": 34,
   "metadata": {},
   "outputs": [],
   "source": [
    "#index frames by Julian Date\n",
    "ctd_jd = ctd_df.set_index('Julian_Date')\n",
    "nit_jd = nit_df.set_index('Julian_Date')\n",
    "op_jd = op_df.set_index('Julian_Date')\n",
    "gga_jd = gga_df.set_index('Julian_Date')\n",
    "air_jd = air_df.drop_duplicates(subset='Julian_Date', keep='last').set_index('Julian_Date')\n",
    "p_jd = p_df.drop_duplicates(subset='Julian_Date', keep='last').set_index('Julian_Date')"
   ]
  },
  {
   "cell_type": "code",
   "execution_count": 35,
   "metadata": {},
   "outputs": [],
   "source": [
    "# CTD\n",
    "temp = pd.concat([ctd_jd, p_jd],\n",
    "                 axis=1,\n",
    "                 keys=['ctd', 'p'])\n",
    "inter = temp.interpolate()\n",
    "ind = ctd_jd.index\n",
    "ctd_pix = inter.loc[ind]"
   ]
  },
  {
   "cell_type": "code",
   "execution_count": 36,
   "metadata": {},
   "outputs": [],
   "source": [
    "# GGA\n",
    "temp = pd.concat([gga_jd, p_jd],\n",
    "                 axis=1,\n",
    "                 keys=['gga', 'p'])\n",
    "inter = temp.interpolate()\n",
    "ind = gga_jd.index\n",
    "gga_pix = inter.loc[ind]"
   ]
  },
  {
   "cell_type": "code",
   "execution_count": 43,
   "metadata": {},
   "outputs": [],
   "source": [
    "# Nit\n",
    "temp = pd.concat([nit_jd, p_jd],\n",
    "                 axis=1,\n",
    "                 keys=['nit', 'p'])\n",
    "inter = temp.interpolate()\n",
    "ind = nit_jd.index\n",
    "nit_pix = inter.loc[ind]"
   ]
  },
  {
   "cell_type": "code",
   "execution_count": 37,
   "metadata": {},
   "outputs": [],
   "source": [
    "# Op\n",
    "temp = pd.concat([op_jd, p_jd],\n",
    "                 axis=1,\n",
    "                 keys=['op', 'p'])\n",
    "inter = temp.interpolate()\n",
    "ind = op_jd.index\n",
    "op_pix = inter.loc[ind]"
   ]
  },
  {
   "cell_type": "code",
   "execution_count": 38,
   "metadata": {},
   "outputs": [],
   "source": [
    "# air\n",
    "temp = pd.concat([air_jd, p_jd],\n",
    "                 axis=1,\n",
    "                 keys=['air', 'p'])\n",
    "inter = temp.interpolate()\n",
    "ind = air_jd.index\n",
    "air_pix = inter.loc[ind]"
   ]
  },
  {
   "cell_type": "code",
   "execution_count": 41,
   "metadata": {},
   "outputs": [
    {
     "data": {
      "text/plain": [
       "[<matplotlib.lines.Line2D at 0x7f07cbae6550>]"
      ]
     },
     "execution_count": 41,
     "metadata": {},
     "output_type": "execute_result"
    },
    {
     "data": {
      "image/png": "[encoded data removed]",
      "text/plain": [
       "<matplotlib.figure.Figure at 0x7f07cc1dfe50>"
      ]
     },
     "metadata": {},
     "output_type": "display_data"
    }
   ],
   "source": [
    "plt.plot(ctd_df['Julian_Date'], ctd_df['Salinity'])\n",
    "plt.plot(ctd_pix.index, ctd_pix['ctd']['Salinity'])"
   ]
  },
  {
   "cell_type": "code",
   "execution_count": 44,
   "metadata": {},
   "outputs": [],
   "source": [
    "#******************\n",
    "# Only run this cell is new CSVs need to be generated!\n",
    "# Will generate all of the geolocated data for instruments\n",
    "#******************\n",
    "\n",
    "ctd_pix.to_csv('data/clean/ctd_geo.csv', sep=',')\n",
    "gga_pix.to_csv('data/clean/gga_geo.csv', sep=',')\n",
    "nit_pix.to_csv('data/clean/nit_geo.csv', sep=',')\n",
    "air_pix.to_csv('data/clean/air_geo.csv', sep=',')\n",
    "op_pix.to_csv('data/clean/op_geo.csv', sep=',')"
   ]
  },
  {
   "cell_type": "markdown",
   "metadata": {},
   "source": [
    "## Creating a Common Frame\n",
    "\n",
    "Now, all instruments will be combined into one frame, and interpolation will occur with respect to the CTD timestamp (so CTD data will be the true representation, all other values will be linearly interpolated onto this sampling rate)."
   ]
  },
  {
   "cell_type": "code",
   "execution_count": 19,
   "metadata": {},
   "outputs": [],
   "source": [
    "#index frames by Julian Date\n",
    "ctd_jd = ctd_df.set_index('Julian_Date')\n",
    "nit_jd = nit_df.set_index('Julian_Date')\n",
    "op_jd = op_df.set_index('Julian_Date')\n",
    "gga_jd = gga_df.set_index('Julian_Date')\n",
    "air_jd = air_df.drop_duplicates(subset='Julian_Date', keep='last').set_index('Julian_Date')\n",
    "p_jd = p_df.drop_duplicates(subset='Julian_Date', keep='last').set_index('Julian_Date')"
   ]
  },
  {
   "cell_type": "code",
   "execution_count": 20,
   "metadata": {},
   "outputs": [],
   "source": [
    "#combine\n",
    "temp = pd.concat([ctd_jd, gga_jd, nit_jd, op_jd, air_jd, p_jd],\n",
    "                 axis=1,\n",
    "                 keys=['ctd', 'gga', 'nit', 'op', 'air', 'p'])\n",
    "\n",
    "#interpolate\n",
    "inter_temp = temp.interpolate()\n",
    "\n",
    "#Resample to index of CTD\n",
    "ctd_index = ctd_jd.index\n",
    "complete_data = inter_temp.loc[ctd_index]"
   ]
  },
  {
   "cell_type": "code",
   "execution_count": 21,
   "metadata": {},
   "outputs": [
    {
     "data": {
      "text/plain": [
       "[<matplotlib.lines.Line2D at 0x7f08020d69d0>]"
      ]
     },
     "execution_count": 21,
     "metadata": {},
     "output_type": "execute_result"
    },
    {
     "data": {
      "image/png": "[encoded data removed]",
      "text/plain": [
       "<matplotlib.figure.Figure at 0x7f0802457510>"
      ]
     },
     "metadata": {},
     "output_type": "display_data"
    }
   ],
   "source": [
    "plt.plot(complete_data['p']['Latitude'], complete_data['p']['Longitude'])\n",
    "plt.plot(p_df['Latitude'], p_df['Longitude'])"
   ]
  },
  {
   "cell_type": "code",
   "execution_count": 22,
   "metadata": {},
   "outputs": [],
   "source": [
    "#******************\n",
    "# Only run this cell is new CSVs need to be generated!\n",
    "# Will generate a complete data set interpolated onto the sampling rate of the CTD\n",
    "#******************\n",
    "\n",
    "complete_data.to_csv('data/clean/all_interpolated.csv', sep=',')"
   ]
  },
  {
   "cell_type": "markdown",
   "metadata": {},
   "source": [
    "### Now, for Each Deployment"
   ]
  },
  {
   "cell_type": "code",
   "execution_count": 26,
   "metadata": {},
   "outputs": [],
   "source": [
    "#index frames by Julian Date\n",
    "ctd_fh_jd = ctd_fh.set_index('Julian_Date')\n",
    "nit_fh_jd = nit_fh.set_index('Julian_Date')\n",
    "op_fh_jd = op_fh.set_index('Julian_Date')\n",
    "gga_fh_jd = gga_fh.set_index('Julian_Date')\n",
    "air_fh_jd = air_fh.drop_duplicates(subset='Julian_Date', keep='last').set_index('Julian_Date')\n",
    "p_fh_jd = p_fh.drop_duplicates(subset='Julian_Date', keep='last').set_index('Julian_Date')"
   ]
  },
  {
   "cell_type": "code",
   "execution_count": 27,
   "metadata": {},
   "outputs": [],
   "source": [
    "#combine\n",
    "temp = pd.concat([ctd_fh_jd, gga_fh_jd, nit_fh_jd, op_fh_jd, air_fh_jd, p_fh_jd],\n",
    "                 axis=1,\n",
    "                 keys=['ctd', 'gga', 'nit', 'op', 'air', 'p'])\n",
    "\n",
    "#interpolate\n",
    "inter_temp = temp.interpolate()\n",
    "\n",
    "#Resample to index of CTD\n",
    "ctd_index = ctd_fh_jd.index\n",
    "fairhaven_data = inter_temp.loc[ctd_index]"
   ]
  },
  {
   "cell_type": "code",
   "execution_count": 28,
   "metadata": {},
   "outputs": [
    {
     "data": {
      "text/plain": [
       "[<matplotlib.lines.Line2D at 0x7f0800225550>]"
      ]
     },
     "execution_count": 28,
     "metadata": {},
     "output_type": "execute_result"
    },
    {
     "data": {
      "image/png": "[encoded data removed]",
      "text/plain": [
       "<matplotlib.figure.Figure at 0x7f0800225210>"
      ]
     },
     "metadata": {},
     "output_type": "display_data"
    }
   ],
   "source": [
    "plt.plot(fairhaven_data['p']['Latitude'], fairhaven_data['p']['Longitude'])\n",
    "plt.plot(p_fh['Latitude'], p_fh['Longitude'])"
   ]
  },
  {
   "cell_type": "code",
   "execution_count": 29,
   "metadata": {},
   "outputs": [],
   "source": [
    "#******************\n",
    "# Only run this cell is new CSVs need to be generated!\n",
    "# Will generate CTD sample rate interpolated dataset\n",
    "#******************\n",
    "\n",
    "fairhaven_data.to_csv('data/clean/fh_interpolated.csv', sep=',')"
   ]
  },
  {
   "cell_type": "code",
   "execution_count": 30,
   "metadata": {},
   "outputs": [],
   "source": [
    "#index frames by Julian Date\n",
    "ctd_nb_jd = ctd_nb.set_index('Julian_Date')\n",
    "nit_nb_jd = nit_nb.set_index('Julian_Date')\n",
    "op_nb_jd = op_nb.set_index('Julian_Date')\n",
    "gga_nb_jd = gga_nb.set_index('Julian_Date')\n",
    "air_nb_jd = air_nb.drop_duplicates(subset='Julian_Date', keep='last').set_index('Julian_Date')\n",
    "p_nb_jd = p_nb.drop_duplicates(subset='Julian_Date', keep='last').set_index('Julian_Date')"
   ]
  },
  {
   "cell_type": "code",
   "execution_count": 31,
   "metadata": {},
   "outputs": [],
   "source": [
    "#combine\n",
    "temp = pd.concat([ctd_nb_jd, gga_nb_jd, nit_nb_jd, op_nb_jd, air_nb_jd, p_nb_jd],\n",
    "                 axis=1,\n",
    "                 keys=['ctd', 'gga', 'nit', 'op', 'air', 'p'])\n",
    "\n",
    "#interpolate\n",
    "inter_temp = temp.interpolate()\n",
    "\n",
    "#Resample to index of gps\n",
    "ctd_index = ctd_nb_jd.index\n",
    "newbedford_data = inter_temp.loc[ctd_index]"
   ]
  },
  {
   "cell_type": "code",
   "execution_count": 32,
   "metadata": {},
   "outputs": [
    {
     "data": {
      "text/plain": [
       "[<matplotlib.lines.Line2D at 0x7f07ca3cbc50>]"
      ]
     },
     "execution_count": 32,
     "metadata": {},
     "output_type": "execute_result"
    },
    {
     "data": {
      "image/png": "[encoded data removed]",
      "text/plain": [
       "<matplotlib.figure.Figure at 0x7f0800235310>"
      ]
     },
     "metadata": {},
     "output_type": "display_data"
    }
   ],
   "source": [
    "plt.plot(newbedford_data['p']['Latitude'], newbedford_data['p']['Longitude'])\n",
    "plt.plot(p_nb['Latitude'], p_nb['Longitude'])"
   ]
  },
  {
   "cell_type": "code",
   "execution_count": 33,
   "metadata": {},
   "outputs": [],
   "source": [
    "#******************\n",
    "# Only run this cell is new CSVs need to be generated!\n",
    "# Will generate a CTD sa,ple rate interpolated data set for new bedford\n",
    "#******************\n",
    "\n",
    "newbedford_data.to_csv('data/clean/nb_interpolated.csv', sep=',')"
   ]
  },
  {
   "cell_type": "markdown",
   "metadata": {},
   "source": [
    "And that's a wrap! All data should now be available for plotting. See the other notebook for these visualizations."
   ]
  },
  {
   "cell_type": "code",
   "execution_count": null,
   "metadata": {},
   "outputs": [],
   "source": []
  }
 ],
 "metadata": {
  "kernelspec": {
   "display_name": "Python 2",
   "language": "python",
   "name": "python2"
  },
  "language_info": {
   "codemirror_mode": {
    "name": "ipython",
    "version": 2
   },
   "file_extension": ".py",
   "mimetype": "text/x-python",
   "name": "python",
   "nbconvert_exporter": "python",
   "pygments_lexer": "ipython2",
   "version": "2.7.14"
  }
 },
 "nbformat": 4,
 "nbformat_minor": 2
}
